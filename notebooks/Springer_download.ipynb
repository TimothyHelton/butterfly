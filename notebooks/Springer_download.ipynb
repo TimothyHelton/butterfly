{
 "cells": [
  {
   "cell_type": "markdown",
   "metadata": {},
   "source": [
    "# Download Springer Covid-19 Free Textbooks\n",
    "### Imports"
   ]
  },
  {
   "cell_type": "code",
   "execution_count": null,
   "metadata": {},
   "outputs": [],
   "source": [
    "import concurrent.futures\n",
    "from pathlib import Path\n",
    "import urllib\n",
    "\n",
    "import pandas as pd\n",
    "import requests"
   ]
  },
  {
   "cell_type": "markdown",
   "metadata": {},
   "source": [
    "### Variables"
   ]
  },
  {
   "cell_type": "code",
   "execution_count": null,
   "metadata": {},
   "outputs": [],
   "source": [
    "des_dir = Path('download')\n",
    "des_dir.mkdir(parents=True, exist_ok=True)\n",
    "\n",
    "df = pd.read_excel(\n",
    "    'https://resource-cms.springernature.com/springer-cms/rest/v1/content/'\n",
    "    '17858272/data'\n",
    ")"
   ]
  },
  {
   "cell_type": "markdown",
   "metadata": {},
   "source": [
    "### Functions"
   ]
  },
  {
   "cell_type": "code",
   "execution_count": null,
   "metadata": {},
   "outputs": [],
   "source": [
    "def scrape_redirect(url):\n",
    "    \"\"\"Scrape Springer textbook redirect link.\"\"\"\n",
    "    r = requests.get(url)\n",
    "    return r.url"
   ]
  },
  {
   "cell_type": "markdown",
   "metadata": {},
   "source": [
    "## Web Scrape and Download"
   ]
  },
  {
   "cell_type": "code",
   "execution_count": null,
   "metadata": {},
   "outputs": [],
   "source": [
    "with concurrent.futures.ThreadPoolExecutor() as executor:\n",
    "    futures = {executor.submit(scrape_redirect, x): x\n",
    "               for x in df['OpenURL']}\n",
    "    redirects = {}\n",
    "    for f in concurrent.futures.as_completed(futures):\n",
    "        url = futures[f]\n",
    "        try:\n",
    "            redirects[url] = f.result()\n",
    "        except Exception as e:\n",
    "            print(f'Generated Exception: {url}, {e}')\n",
    "\n",
    "df['redirects'] = df['OpenURL'].map(redirects)\n",
    "\n",
    "df['pdf_url'] = (\n",
    "    df['redirects']\n",
    "    .str.replace('book', 'content/pdf')\n",
    "    + '.pdf'\n",
    ")\n",
    "\n",
    "df['epub_url'] = (\n",
    "    df['redirects']\n",
    "    .str.replace('book', 'download/epub')\n",
    "    + '.epub'\n",
    ")\n",
    "\n",
    "df['file_name'] = (\n",
    "    df.apply(lambda x: f\"{x['Book Title']}_{x['Edition']}\", axis=1)\n",
    "    .str.replace('[/:]', '-')\n",
    ")\n",
    "\n",
    "with concurrent.futures.ThreadPoolExecutor() as executor:\n",
    "    pdf_futures = {}\n",
    "    for r in df[['pdf_url', 'file_name']].itertuples():\n",
    "        f = des_dir / f'{r.file_name}.pdf'\n",
    "        if not f.is_file():\n",
    "            pdf_futures[executor.submit(urllib.request.urlretrieve, r.pdf_url, f)] = f\n",
    "    for future in concurrent.futures.as_completed(pdf_futures):\n",
    "        try:\n",
    "            future.result()\n",
    "        except Exception as e:\n",
    "            print(f'Error: {pdf_futures[future]}, {e}')\n",
    "    print('\\n*** Completed pdf downloads ***\\n')\n",
    "    \n",
    "    epub_futures = {}\n",
    "    for r in df[['epub_url', 'file_name']].itertuples():\n",
    "        f = des_dir / f'{r.file_name}.epub'\n",
    "        if not f.is_file():\n",
    "            epub_futures[executor.submit(urllib.request.urlretrieve, r.epub_url, f)] = f\n",
    "    for future in concurrent.futures.as_completed(epub_futures):\n",
    "        try:\n",
    "            future.result()\n",
    "        except urllib.error.HTTPError as e:\n",
    "            print(f'Epub not available: {epub_futures[future]}')\n",
    "        except Exception as e:\n",
    "            print(f'Error: {epub_futures[future]}, {e}')\n",
    "    print('\\n*** Completed epub downloads ***\\n')"
   ]
  }
 ],
 "metadata": {
  "kernelspec": {
   "display_name": "Python 3",
   "language": "python",
   "name": "python3"
  },
  "language_info": {
   "codemirror_mode": {
    "name": "ipython",
    "version": 3
   },
   "file_extension": ".py",
   "mimetype": "text/x-python",
   "name": "python",
   "nbconvert_exporter": "python",
   "pygments_lexer": "ipython3",
   "version": "3.6.9"
  }
 },
 "nbformat": 4,
 "nbformat_minor": 4
}
